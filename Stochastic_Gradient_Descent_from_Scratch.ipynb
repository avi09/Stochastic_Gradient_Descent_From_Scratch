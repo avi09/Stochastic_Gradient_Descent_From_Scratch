{
 "cells": [
  {
   "cell_type": "code",
   "execution_count": 1,
   "metadata": {},
   "outputs": [],
   "source": [
    "import pandas as dd\n",
    "import numpy as nn\n",
    "import math, datetime\n",
    "import numpy as np\n",
    "from sklearn.model_selection import train_test_split\n",
    "from sklearn import preprocessing\n",
    "import matplotlib.pyplot as plt"
   ]
  },
  {
   "cell_type": "code",
   "execution_count": 43,
   "metadata": {},
   "outputs": [],
   "source": [
    "def rr(m,f=5):\n",
    "    x=0 \n",
    "    m=nn.array(m)\n",
    "    for i in m:\n",
    "        x+=(i*i)\n",
    "    return nn.array(x*f)\n",
    "\n",
    "def ad(x):\n",
    "    return nn.sum(x)"
   ]
  },
  {
   "cell_type": "code",
   "execution_count": null,
   "metadata": {},
   "outputs": [],
   "source": []
  },
  {
   "cell_type": "code",
   "execution_count": 76,
   "metadata": {},
   "outputs": [],
   "source": [
    "def sgd(x,y,r,it):\n",
    "    x=nn.array(x)\n",
    "    n=nn.shape(x)[1]\n",
    "    m=[1]*n\n",
    "    xx=9999\n",
    "    f=1 \n",
    "    b=-2\n",
    "    c=0\n",
    "    for s in range(it):\n",
    "        for i in range(n):\n",
    "            for j in range(len(m)):\n",
    "                x1=rr(m,f=1)\n",
    "                gr = (x[i][j]) * (y[i] - m*x[i] - x1)\n",
    "                m[j]=m[j]+nn.sum(r*gr)\n",
    "    print(nn.array(m))\n",
    "    return nn.array(m)\n",
    "\n",
    "def r(m,x):\n",
    "    r=[]\n",
    "    for i in m:\n",
    "        r.append(x*i)\n",
    "    return r"
   ]
  },
  {
   "cell_type": "code",
   "execution_count": 77,
   "metadata": {},
   "outputs": [
    {
     "name": "stdout",
     "output_type": "stream",
     "text": [
      "[2.29775495 1.66440036]\n"
     ]
    },
    {
     "data": {
      "text/plain": [
       "235.3431718489776"
      ]
     },
     "execution_count": 77,
     "metadata": {},
     "output_type": "execute_result"
    }
   ],
   "source": [
    "x=[[1,5],[2,9],[4,2],[8,7],[22,1],[44,71]]\n",
    "y=[8,17,9,24,46,164] \n",
    "x2=sgd(x,y,0.01,45) \n",
    "a=r([[72,42]],x2)\n",
    "ad(a)"
   ]
  },
  {
   "cell_type": "code",
   "execution_count": null,
   "metadata": {},
   "outputs": [],
   "source": [
    "-- tested on above test data\n",
    "-- algorithm based on number of iterations hence can be also tuned. Default lambd taken to 1\n",
    "-- first line are value of m1 and m2\n",
    "-- second line unit test result"
   ]
  },
  {
   "cell_type": "code",
   "execution_count": null,
   "metadata": {},
   "outputs": [],
   "source": []
  }
 ],
 "metadata": {
  "kernelspec": {
   "display_name": "Python 3",
   "language": "python",
   "name": "python3"
  },
  "language_info": {
   "codemirror_mode": {
    "name": "ipython",
    "version": 3
   },
   "file_extension": ".py",
   "mimetype": "text/x-python",
   "name": "python",
   "nbconvert_exporter": "python",
   "pygments_lexer": "ipython3",
   "version": "3.7.2"
  }
 },
 "nbformat": 4,
 "nbformat_minor": 2
}
